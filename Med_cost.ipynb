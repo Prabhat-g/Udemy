{
  "cells": [
    {
      "cell_type": "code",
      "execution_count": null,
      "id": "e4ba0c02",
      "metadata": {
        "id": "e4ba0c02"
      },
      "outputs": [],
      "source": [
        "# !pip install tensorflow "
      ]
    },
    {
      "cell_type": "code",
      "source": [
        "## New comment"
      ],
      "metadata": {
        "id": "ejmxyk4qiefh"
      },
      "id": "ejmxyk4qiefh",
      "execution_count": null,
      "outputs": []
    },
    {
      "cell_type": "code",
      "execution_count": null,
      "id": "a49fd0bc",
      "metadata": {
        "id": "a49fd0bc"
      },
      "outputs": [],
      "source": [
        "import tensorflow as tf\n",
        "import numpy as np\n",
        "import pandas as pd\n",
        "\n",
        "\n",
        "# Visualization \n",
        "import matplotlib.pyplot as plt\n",
        "import seaborn as sns\n",
        "\n",
        "# for Q-Q plots\n",
        "import scipy.stats as stats\n",
        "\n",
        "#import model libraries\n",
        "from sklearn.model_selection import train_test_split\n",
        "from sklearn.preprocessing import StandardScaler\n",
        "\n",
        "#import model\n",
        "from sklearn.linear_model import LinearRegression\n",
        "from sklearn.preprocessing import PolynomialFeatures\n",
        "from sklearn.tree import DecisionTreeRegressor\n",
        "from sklearn.ensemble import RandomForestRegressor\n",
        "from sklearn.svm import SVR\n",
        "#from xgboost import XGBRegressor\n",
        "\n",
        "\n",
        "\n",
        "#import accuracy\n",
        "from sklearn import metrics\n",
        "from sklearn.metrics import accuracy_score\n",
        "from sklearn.model_selection import KFold\n",
        "from sklearn.model_selection import cross_val_score\n",
        "\n",
        "\n",
        "\n",
        "import warnings\n",
        "warnings.filterwarnings('ignore')\n"
      ]
    },
    {
      "cell_type": "code",
      "execution_count": null,
      "id": "75696707",
      "metadata": {
        "id": "75696707",
        "outputId": "43c7f183-86de-4f34-bcac-38141980eb06"
      },
      "outputs": [
        {
          "name": "stdout",
          "output_type": "stream",
          "text": [
            "2.10.0\n"
          ]
        }
      ],
      "source": [
        "print(tf.__version__)"
      ]
    },
    {
      "cell_type": "code",
      "execution_count": null,
      "id": "ae9df376",
      "metadata": {
        "id": "ae9df376"
      },
      "outputs": [],
      "source": [
        "df = pd.read_csv(\"https://raw.githubusercontent.com/stedy/Machine-Learning-with-R-datasets/master/insurance.csv\")"
      ]
    },
    {
      "cell_type": "code",
      "execution_count": null,
      "id": "c9377b41",
      "metadata": {
        "id": "c9377b41",
        "outputId": "9132cd0e-edbf-4894-96c0-a700ce71e93b"
      },
      "outputs": [
        {
          "data": {
            "text/html": [
              "<div>\n",
              "<style scoped>\n",
              "    .dataframe tbody tr th:only-of-type {\n",
              "        vertical-align: middle;\n",
              "    }\n",
              "\n",
              "    .dataframe tbody tr th {\n",
              "        vertical-align: top;\n",
              "    }\n",
              "\n",
              "    .dataframe thead th {\n",
              "        text-align: right;\n",
              "    }\n",
              "</style>\n",
              "<table border=\"1\" class=\"dataframe\">\n",
              "  <thead>\n",
              "    <tr style=\"text-align: right;\">\n",
              "      <th></th>\n",
              "      <th>age</th>\n",
              "      <th>sex</th>\n",
              "      <th>bmi</th>\n",
              "      <th>children</th>\n",
              "      <th>smoker</th>\n",
              "      <th>region</th>\n",
              "      <th>charges</th>\n",
              "    </tr>\n",
              "  </thead>\n",
              "  <tbody>\n",
              "    <tr>\n",
              "      <th>0</th>\n",
              "      <td>19</td>\n",
              "      <td>female</td>\n",
              "      <td>27.900</td>\n",
              "      <td>0</td>\n",
              "      <td>yes</td>\n",
              "      <td>southwest</td>\n",
              "      <td>16884.92400</td>\n",
              "    </tr>\n",
              "    <tr>\n",
              "      <th>1</th>\n",
              "      <td>18</td>\n",
              "      <td>male</td>\n",
              "      <td>33.770</td>\n",
              "      <td>1</td>\n",
              "      <td>no</td>\n",
              "      <td>southeast</td>\n",
              "      <td>1725.55230</td>\n",
              "    </tr>\n",
              "    <tr>\n",
              "      <th>2</th>\n",
              "      <td>28</td>\n",
              "      <td>male</td>\n",
              "      <td>33.000</td>\n",
              "      <td>3</td>\n",
              "      <td>no</td>\n",
              "      <td>southeast</td>\n",
              "      <td>4449.46200</td>\n",
              "    </tr>\n",
              "    <tr>\n",
              "      <th>3</th>\n",
              "      <td>33</td>\n",
              "      <td>male</td>\n",
              "      <td>22.705</td>\n",
              "      <td>0</td>\n",
              "      <td>no</td>\n",
              "      <td>northwest</td>\n",
              "      <td>21984.47061</td>\n",
              "    </tr>\n",
              "    <tr>\n",
              "      <th>4</th>\n",
              "      <td>32</td>\n",
              "      <td>male</td>\n",
              "      <td>28.880</td>\n",
              "      <td>0</td>\n",
              "      <td>no</td>\n",
              "      <td>northwest</td>\n",
              "      <td>3866.85520</td>\n",
              "    </tr>\n",
              "  </tbody>\n",
              "</table>\n",
              "</div>"
            ],
            "text/plain": [
              "   age     sex     bmi  children smoker     region      charges\n",
              "0   19  female  27.900         0    yes  southwest  16884.92400\n",
              "1   18    male  33.770         1     no  southeast   1725.55230\n",
              "2   28    male  33.000         3     no  southeast   4449.46200\n",
              "3   33    male  22.705         0     no  northwest  21984.47061\n",
              "4   32    male  28.880         0     no  northwest   3866.85520"
            ]
          },
          "execution_count": 4,
          "metadata": {},
          "output_type": "execute_result"
        }
      ],
      "source": [
        "df.head()"
      ]
    },
    {
      "cell_type": "code",
      "execution_count": null,
      "id": "f3407a3b",
      "metadata": {
        "id": "f3407a3b",
        "outputId": "305502bf-1a22-4e63-b9af-50822a925556"
      },
      "outputs": [
        {
          "data": {
            "text/plain": [
              "(1338, 7)"
            ]
          },
          "execution_count": 5,
          "metadata": {},
          "output_type": "execute_result"
        }
      ],
      "source": [
        "df.shape"
      ]
    },
    {
      "cell_type": "code",
      "execution_count": null,
      "id": "483323f2",
      "metadata": {
        "id": "483323f2",
        "outputId": "c5fafa2a-a5f9-4981-972e-9f1c4710b744"
      },
      "outputs": [
        {
          "data": {
            "text/plain": [
              "age         0\n",
              "sex         0\n",
              "bmi         0\n",
              "children    0\n",
              "smoker      0\n",
              "region      0\n",
              "charges     0\n",
              "dtype: int64"
            ]
          },
          "execution_count": 6,
          "metadata": {},
          "output_type": "execute_result"
        }
      ],
      "source": [
        "df.isna().sum()"
      ]
    },
    {
      "cell_type": "code",
      "execution_count": null,
      "id": "35728e6e",
      "metadata": {
        "id": "35728e6e",
        "outputId": "d892d8ec-1a36-4f99-dc55-90b0798a58b4"
      },
      "outputs": [
        {
          "data": {
            "text/plain": [
              "male      676\n",
              "female    662\n",
              "Name: sex, dtype: int64"
            ]
          },
          "execution_count": 7,
          "metadata": {},
          "output_type": "execute_result"
        }
      ],
      "source": [
        "df['sex'].value_counts()"
      ]
    },
    {
      "cell_type": "code",
      "execution_count": null,
      "id": "2ef7e498",
      "metadata": {
        "id": "2ef7e498",
        "outputId": "4a4f5af0-7026-4cd3-8c96-bf3963a44f07"
      },
      "outputs": [
        {
          "data": {
            "text/plain": [
              "no     1064\n",
              "yes     274\n",
              "Name: smoker, dtype: int64"
            ]
          },
          "execution_count": 8,
          "metadata": {},
          "output_type": "execute_result"
        }
      ],
      "source": [
        "df['smoker'].value_counts()"
      ]
    },
    {
      "cell_type": "code",
      "execution_count": null,
      "id": "919d6ec1",
      "metadata": {
        "id": "919d6ec1",
        "outputId": "002ed962-0f24-4287-f1d8-973008966de1"
      },
      "outputs": [
        {
          "data": {
            "text/plain": [
              "southeast    364\n",
              "southwest    325\n",
              "northwest    325\n",
              "northeast    324\n",
              "Name: region, dtype: int64"
            ]
          },
          "execution_count": 9,
          "metadata": {},
          "output_type": "execute_result"
        }
      ],
      "source": [
        "df['region'].value_counts()"
      ]
    },
    {
      "cell_type": "code",
      "execution_count": null,
      "id": "f14f870b",
      "metadata": {
        "id": "f14f870b",
        "outputId": "474bcfaa-b20a-427f-c963-997776eb00a6"
      },
      "outputs": [
        {
          "data": {
            "text/html": [
              "<div>\n",
              "<style scoped>\n",
              "    .dataframe tbody tr th:only-of-type {\n",
              "        vertical-align: middle;\n",
              "    }\n",
              "\n",
              "    .dataframe tbody tr th {\n",
              "        vertical-align: top;\n",
              "    }\n",
              "\n",
              "    .dataframe thead th {\n",
              "        text-align: right;\n",
              "    }\n",
              "</style>\n",
              "<table border=\"1\" class=\"dataframe\">\n",
              "  <thead>\n",
              "    <tr style=\"text-align: right;\">\n",
              "      <th></th>\n",
              "      <th>age</th>\n",
              "      <th>bmi</th>\n",
              "      <th>children</th>\n",
              "      <th>charges</th>\n",
              "    </tr>\n",
              "  </thead>\n",
              "  <tbody>\n",
              "    <tr>\n",
              "      <th>count</th>\n",
              "      <td>1338.000000</td>\n",
              "      <td>1338.000000</td>\n",
              "      <td>1338.000000</td>\n",
              "      <td>1338.000000</td>\n",
              "    </tr>\n",
              "    <tr>\n",
              "      <th>mean</th>\n",
              "      <td>39.207025</td>\n",
              "      <td>30.663397</td>\n",
              "      <td>1.094918</td>\n",
              "      <td>13270.422265</td>\n",
              "    </tr>\n",
              "    <tr>\n",
              "      <th>std</th>\n",
              "      <td>14.049960</td>\n",
              "      <td>6.098187</td>\n",
              "      <td>1.205493</td>\n",
              "      <td>12110.011237</td>\n",
              "    </tr>\n",
              "    <tr>\n",
              "      <th>min</th>\n",
              "      <td>18.000000</td>\n",
              "      <td>15.960000</td>\n",
              "      <td>0.000000</td>\n",
              "      <td>1121.873900</td>\n",
              "    </tr>\n",
              "    <tr>\n",
              "      <th>25%</th>\n",
              "      <td>27.000000</td>\n",
              "      <td>26.296250</td>\n",
              "      <td>0.000000</td>\n",
              "      <td>4740.287150</td>\n",
              "    </tr>\n",
              "    <tr>\n",
              "      <th>50%</th>\n",
              "      <td>39.000000</td>\n",
              "      <td>30.400000</td>\n",
              "      <td>1.000000</td>\n",
              "      <td>9382.033000</td>\n",
              "    </tr>\n",
              "    <tr>\n",
              "      <th>75%</th>\n",
              "      <td>51.000000</td>\n",
              "      <td>34.693750</td>\n",
              "      <td>2.000000</td>\n",
              "      <td>16639.912515</td>\n",
              "    </tr>\n",
              "    <tr>\n",
              "      <th>max</th>\n",
              "      <td>64.000000</td>\n",
              "      <td>53.130000</td>\n",
              "      <td>5.000000</td>\n",
              "      <td>63770.428010</td>\n",
              "    </tr>\n",
              "  </tbody>\n",
              "</table>\n",
              "</div>"
            ],
            "text/plain": [
              "               age          bmi     children       charges\n",
              "count  1338.000000  1338.000000  1338.000000   1338.000000\n",
              "mean     39.207025    30.663397     1.094918  13270.422265\n",
              "std      14.049960     6.098187     1.205493  12110.011237\n",
              "min      18.000000    15.960000     0.000000   1121.873900\n",
              "25%      27.000000    26.296250     0.000000   4740.287150\n",
              "50%      39.000000    30.400000     1.000000   9382.033000\n",
              "75%      51.000000    34.693750     2.000000  16639.912515\n",
              "max      64.000000    53.130000     5.000000  63770.428010"
            ]
          },
          "execution_count": 10,
          "metadata": {},
          "output_type": "execute_result"
        }
      ],
      "source": [
        "df.describe()"
      ]
    },
    {
      "cell_type": "code",
      "execution_count": null,
      "id": "b8df60c4",
      "metadata": {
        "id": "b8df60c4",
        "outputId": "650460e6-73a4-4608-dea3-cf98e186d1bf"
      },
      "outputs": [
        {
          "data": {
            "text/plain": [
              "Index(['age', 'sex', 'bmi', 'children', 'smoker', 'region', 'charges'], dtype='object')"
            ]
          },
          "execution_count": 11,
          "metadata": {},
          "output_type": "execute_result"
        }
      ],
      "source": [
        "df.columns"
      ]
    },
    {
      "cell_type": "code",
      "execution_count": null,
      "id": "383cff6b",
      "metadata": {
        "id": "383cff6b",
        "outputId": "fb65230e-a30d-49e8-874b-e2883b00a139"
      },
      "outputs": [
        {
          "data": {
            "image/png": "[encoded data removed]",
            "text/plain": [
              "<Figure size 432x288 with 1 Axes>"
            ]
          },
          "metadata": {
            "needs_background": "light"
          },
          "output_type": "display_data"
        }
      ],
      "source": [
        "plt.scatter(x=df['age'], y=df['charges'], alpha=0.5)\n",
        "\n",
        "\n",
        "# Decorate\n",
        "plt.title('Age Of person')\n",
        "plt.xlabel('Age')\n",
        "plt.ylabel('Charges')\n",
        "plt.show()"
      ]
    },
    {
      "cell_type": "code",
      "execution_count": null,
      "id": "dd6664a5",
      "metadata": {
        "id": "dd6664a5",
        "outputId": "3969ad10-208d-41a2-e27f-030f66fafea6"
      },
      "outputs": [
        {
          "data": {
            "text/plain": [
              "<AxesSubplot:xlabel='sex', ylabel='count'>"
            ]
          },
          "execution_count": 13,
          "metadata": {},
          "output_type": "execute_result"
        },
        {
          "data": {
            "image/png": "[encoded data removed]",
            "text/plain": [
              "<Figure size 432x288 with 1 Axes>"
            ]
          },
          "metadata": {
            "needs_background": "light"
          },
          "output_type": "display_data"
        }
      ],
      "source": [
        "sns.countplot(df['sex'])"
      ]
    },
    {
      "cell_type": "code",
      "execution_count": null,
      "id": "1e92384d",
      "metadata": {
        "id": "1e92384d",
        "outputId": "094f379a-669a-4ec9-f276-b96766cdc040"
      },
      "outputs": [
        {
          "data": {
            "image/png": "[encoded data removed]",
            "text/plain": [
              "<Figure size 432x288 with 1 Axes>"
            ]
          },
          "metadata": {
            "needs_background": "light"
          },
          "output_type": "display_data"
        }
      ],
      "source": [
        "plt.scatter(x=df['bmi'], y=df['charges'], alpha=0.5)\n",
        "\n",
        "\n",
        "# Decorate\n",
        "plt.title('BMI Of person')\n",
        "plt.xlabel('BMI')\n",
        "plt.ylabel('Charges')\n",
        "plt.show()"
      ]
    },
    {
      "cell_type": "code",
      "execution_count": null,
      "id": "4d0a0b81",
      "metadata": {
        "id": "4d0a0b81",
        "outputId": "87e726ba-a054-4550-80dd-648af5fc58da"
      },
      "outputs": [
        {
          "data": {
            "text/plain": [
              "Index(['age', 'sex', 'bmi', 'children', 'smoker', 'region', 'charges'], dtype='object')"
            ]
          },
          "execution_count": 15,
          "metadata": {},
          "output_type": "execute_result"
        }
      ],
      "source": [
        "df.columns"
      ]
    },
    {
      "cell_type": "code",
      "execution_count": null,
      "id": "f605cb12",
      "metadata": {
        "id": "f605cb12"
      },
      "outputs": [],
      "source": [
        "# plt.figure(figsize=(3,3))\n",
        "# sns.heatmap(df.corr(),annot=True, mask=np.triu(df.corr()))\n",
        "# plt.ylim(4,0)"
      ]
    },
    {
      "cell_type": "code",
      "execution_count": null,
      "id": "85024fb6",
      "metadata": {
        "id": "85024fb6"
      },
      "outputs": [],
      "source": [
        "# drop dependent feature.\n",
        "\n",
        "y=df['charges']\n",
        "\n",
        "x=df.drop('charges', axis=1)"
      ]
    },
    {
      "cell_type": "code",
      "execution_count": null,
      "id": "2afdb812",
      "metadata": {
        "id": "2afdb812"
      },
      "outputs": [],
      "source": [
        "# function to create distribution, histogram, Q-Q plot and boxplot\n",
        "\n",
        "\n",
        "def diagnostic_plots(df):\n",
        "    # function takes a dataframe (df) and\n",
        "    # the list of variables of interest as arguments\n",
        "\n",
        "    col=df._get_numeric_data().columns\n",
        "    \n",
        "    for ele in col:\n",
        "        \n",
        "        # define figure size\n",
        "        plt.figure(figsize=(16, 4))\n",
        "        \n",
        "        # distribution\n",
        "        plt.subplot(1, 4, 1)\n",
        "        sns.distplot(df[ele])\n",
        "        plt.title('Distribution')\n",
        "        \n",
        "        # histogram\n",
        "        plt.subplot(1, 4, 2)\n",
        "        sns.histplot(df[ele], bins=30)\n",
        "        plt.title('Histogram')\n",
        "\n",
        "        # Q-Q plot\n",
        "        plt.subplot(1, 4, 3)\n",
        "        stats.probplot(df[ele], dist=\"norm\", plot=plt)\n",
        "        plt.ylabel('Variable quantiles')\n",
        "\n",
        "        # boxplot\n",
        "        plt.subplot(1, 4, 4)\n",
        "        sns.boxplot(y=df[ele])\n",
        "        plt.title('Boxplot')\n",
        "        \n",
        "        \n",
        "        plt.show()"
      ]
    },
    {
      "cell_type": "code",
      "execution_count": null,
      "id": "be2f3901",
      "metadata": {
        "id": "be2f3901",
        "outputId": "bdb631b0-5044-4c2a-c00a-74567424d8b7"
      },
      "outputs": [
        {
          "data": {
            "image/png": "[encoded data removed]",
            "text/plain": [
              "<Figure size 1152x288 with 4 Axes>"
            ]
          },
          "metadata": {
            "needs_background": "light"
          },
          "output_type": "display_data"
        },
        {
          "data": {
            "image/png": "[encoded data removed]",
            "text/plain": [
              "<Figure size 1152x288 with 4 Axes>"
            ]
          },
          "metadata": {
            "needs_background": "light"
          },
          "output_type": "display_data"
        },
        {
          "data": {
            "image/png": "[encoded data removed]",
            "text/plain": [
              "<Figure size 1152x288 with 4 Axes>"
            ]
          },
          "metadata": {
            "needs_background": "light"
          },
          "output_type": "display_data"
        }
      ],
      "source": [
        "diagnostic_plots(x)"
      ]
    },
    {
      "cell_type": "code",
      "execution_count": null,
      "id": "a1754b5e",
      "metadata": {
        "id": "a1754b5e"
      },
      "outputs": [],
      "source": [
        "def remove_skew(df):\n",
        "    \n",
        "    col=df._get_numeric_data().columns\n",
        "    \n",
        "    for ele in col:\n",
        "        \n",
        "        if abs(df[ele].skew())>0.75:\n",
        "            df[ele]=np.log(df[ele]+1)"
      ]
    },
    {
      "cell_type": "code",
      "execution_count": null,
      "id": "2594c6a8",
      "metadata": {
        "id": "2594c6a8"
      },
      "outputs": [],
      "source": [
        "#remove_skew(x)"
      ]
    },
    {
      "cell_type": "code",
      "execution_count": null,
      "id": "574d5aee",
      "metadata": {
        "id": "574d5aee"
      },
      "outputs": [],
      "source": [
        "#diagnostic_plots(x)"
      ]
    },
    {
      "cell_type": "code",
      "execution_count": null,
      "id": "1cf98d16",
      "metadata": {
        "id": "1cf98d16"
      },
      "outputs": [],
      "source": [
        "def mod_outlier(df):\n",
        "        \n",
        "        num_col = df._get_numeric_data().columns\n",
        "        \n",
        "        for col in num_col:\n",
        "\n",
        "            #q1 = df[col].quantile(0.25)\n",
        "            #q3 = df[col].quantile(0.75)\n",
        "\n",
        "            iqr = df[col].quantile(0.75) - df[col].quantile(0.25)    # iqr= q3-q1\n",
        "\n",
        "            lower_bound = df[col].quantile(0.25) -(2 * iqr) \n",
        "            upper_bound = df[col].quantile(0.75) +(2 * iqr)\n",
        "\n",
        "            df[col]= np.where(df[col] > upper_bound, upper_bound , np.where(df[col] < lower_bound, lower_bound, df[col]))    \n",
        "\n",
        "#mod_outlier(x)"
      ]
    },
    {
      "cell_type": "code",
      "execution_count": null,
      "id": "e3776e61",
      "metadata": {
        "id": "e3776e61",
        "outputId": "7ee7e0ce-86a5-4907-9dd5-969a4fbd9197"
      },
      "outputs": [
        {
          "data": {
            "text/plain": [
              "Index(['age', 'sex', 'bmi', 'children', 'smoker', 'region'], dtype='object')"
            ]
          },
          "execution_count": 24,
          "metadata": {},
          "output_type": "execute_result"
        }
      ],
      "source": [
        "x.columns"
      ]
    },
    {
      "cell_type": "code",
      "execution_count": null,
      "id": "78271a58",
      "metadata": {
        "id": "78271a58",
        "outputId": "829656f5-c615-4269-d29d-073643104ef7"
      },
      "outputs": [
        {
          "data": {
            "text/html": [
              "<div>\n",
              "<style scoped>\n",
              "    .dataframe tbody tr th:only-of-type {\n",
              "        vertical-align: middle;\n",
              "    }\n",
              "\n",
              "    .dataframe tbody tr th {\n",
              "        vertical-align: top;\n",
              "    }\n",
              "\n",
              "    .dataframe thead th {\n",
              "        text-align: right;\n",
              "    }\n",
              "</style>\n",
              "<table border=\"1\" class=\"dataframe\">\n",
              "  <thead>\n",
              "    <tr style=\"text-align: right;\">\n",
              "      <th></th>\n",
              "      <th>age</th>\n",
              "      <th>bmi</th>\n",
              "      <th>children</th>\n",
              "      <th>sex_male</th>\n",
              "      <th>smoker_yes</th>\n",
              "      <th>region_northwest</th>\n",
              "      <th>region_southeast</th>\n",
              "      <th>region_southwest</th>\n",
              "    </tr>\n",
              "  </thead>\n",
              "  <tbody>\n",
              "    <tr>\n",
              "      <th>0</th>\n",
              "      <td>19</td>\n",
              "      <td>27.900</td>\n",
              "      <td>0</td>\n",
              "      <td>0</td>\n",
              "      <td>1</td>\n",
              "      <td>0</td>\n",
              "      <td>0</td>\n",
              "      <td>1</td>\n",
              "    </tr>\n",
              "    <tr>\n",
              "      <th>1</th>\n",
              "      <td>18</td>\n",
              "      <td>33.770</td>\n",
              "      <td>1</td>\n",
              "      <td>1</td>\n",
              "      <td>0</td>\n",
              "      <td>0</td>\n",
              "      <td>1</td>\n",
              "      <td>0</td>\n",
              "    </tr>\n",
              "    <tr>\n",
              "      <th>2</th>\n",
              "      <td>28</td>\n",
              "      <td>33.000</td>\n",
              "      <td>3</td>\n",
              "      <td>1</td>\n",
              "      <td>0</td>\n",
              "      <td>0</td>\n",
              "      <td>1</td>\n",
              "      <td>0</td>\n",
              "    </tr>\n",
              "    <tr>\n",
              "      <th>3</th>\n",
              "      <td>33</td>\n",
              "      <td>22.705</td>\n",
              "      <td>0</td>\n",
              "      <td>1</td>\n",
              "      <td>0</td>\n",
              "      <td>1</td>\n",
              "      <td>0</td>\n",
              "      <td>0</td>\n",
              "    </tr>\n",
              "    <tr>\n",
              "      <th>4</th>\n",
              "      <td>32</td>\n",
              "      <td>28.880</td>\n",
              "      <td>0</td>\n",
              "      <td>1</td>\n",
              "      <td>0</td>\n",
              "      <td>1</td>\n",
              "      <td>0</td>\n",
              "      <td>0</td>\n",
              "    </tr>\n",
              "  </tbody>\n",
              "</table>\n",
              "</div>"
            ],
            "text/plain": [
              "   age     bmi  children  sex_male  smoker_yes  region_northwest  \\\n",
              "0   19  27.900         0         0           1                 0   \n",
              "1   18  33.770         1         1           0                 0   \n",
              "2   28  33.000         3         1           0                 0   \n",
              "3   33  22.705         0         1           0                 1   \n",
              "4   32  28.880         0         1           0                 1   \n",
              "\n",
              "   region_southeast  region_southwest  \n",
              "0                 0                 1  \n",
              "1                 1                 0  \n",
              "2                 1                 0  \n",
              "3                 0                 0  \n",
              "4                 0                 0  "
            ]
          },
          "execution_count": 25,
          "metadata": {},
          "output_type": "execute_result"
        }
      ],
      "source": [
        "x_ = pd.get_dummies(x, drop_first=True, columns = ['sex','smoker','region'])\n",
        "x_.head()"
      ]
    },
    {
      "cell_type": "code",
      "execution_count": null,
      "id": "1c06ac3d",
      "metadata": {
        "id": "1c06ac3d"
      },
      "outputs": [],
      "source": []
    },
    {
      "cell_type": "code",
      "execution_count": null,
      "id": "6132b273",
      "metadata": {
        "id": "6132b273"
      },
      "outputs": [],
      "source": [
        "X_train, X_test, y_train, y_test = train_test_split(x_, y, test_size = 0.2, random_state = 42)"
      ]
    },
    {
      "cell_type": "code",
      "execution_count": null,
      "id": "0b4dae7e",
      "metadata": {
        "id": "0b4dae7e"
      },
      "outputs": [],
      "source": [
        "#feature scaling\n",
        "\n",
        "sc = StandardScaler()\n",
        "X_train = sc.fit_transform(X_train)\n",
        "X_test = sc.transform(X_test)"
      ]
    },
    {
      "cell_type": "code",
      "execution_count": null,
      "id": "3b85a6aa",
      "metadata": {
        "id": "3b85a6aa"
      },
      "outputs": [],
      "source": [
        "def accuracy(yt,yp):\n",
        "    return round(metrics.r2_score(yt, yp)*100 , 2)\n",
        "\n",
        "\n",
        "model_acc={}"
      ]
    },
    {
      "cell_type": "markdown",
      "id": "16c36bf1",
      "metadata": {
        "id": "16c36bf1"
      },
      "source": [
        "## ML Model Training"
      ]
    },
    {
      "cell_type": "code",
      "execution_count": null,
      "id": "b32c77d1",
      "metadata": {
        "id": "b32c77d1"
      },
      "outputs": [],
      "source": [
        "# Random Forest\n",
        "\n",
        "regressor = RandomForestRegressor(n_estimators = 100, random_state = 42)\n",
        "regressor.fit(X_train, y_train)\n",
        "\n",
        "y_pred = (regressor.predict(X_test))\n",
        "\n",
        "model_acc['Random Forest']=accuracy(y_test, y_pred)"
      ]
    },
    {
      "cell_type": "code",
      "execution_count": null,
      "id": "95293d6b",
      "metadata": {
        "id": "95293d6b"
      },
      "outputs": [],
      "source": [
        "# Decision Tree\n",
        "\n",
        "regressor = DecisionTreeRegressor(random_state = 42)\n",
        "regressor.fit(X_train, y_train)\n",
        "\n",
        "y_pred = (regressor.predict(X_test))\n",
        "\n",
        "model_acc['Decision Tree']=accuracy(y_test, y_pred)"
      ]
    },
    {
      "cell_type": "code",
      "execution_count": null,
      "id": "433a106a",
      "metadata": {
        "id": "433a106a"
      },
      "outputs": [],
      "source": [
        "# LR\n",
        "\n",
        "regressor = LinearRegression()\n",
        "regressor.fit(X_train, y_train)\n",
        "\n",
        "y_pred = (regressor.predict(X_test))\n",
        "\n",
        "model_acc['MultipleRegression Module']=accuracy(y_test, y_pred)"
      ]
    },
    {
      "cell_type": "code",
      "execution_count": null,
      "id": "64880fe8",
      "metadata": {
        "id": "64880fe8"
      },
      "outputs": [],
      "source": []
    },
    {
      "cell_type": "code",
      "execution_count": null,
      "id": "fada2d1b",
      "metadata": {
        "id": "fada2d1b",
        "outputId": "a45f7274-b370-4a74-a122-5b62f013d1f3"
      },
      "outputs": [
        {
          "data": {
            "text/plain": [
              "{'Random Forest': 86.56,\n",
              " 'Decision Tree': 73.72,\n",
              " 'MultipleRegression Module': 78.36}"
            ]
          },
          "execution_count": 32,
          "metadata": {},
          "output_type": "execute_result"
        }
      ],
      "source": [
        "model_acc"
      ]
    },
    {
      "cell_type": "markdown",
      "id": "2d5e9997",
      "metadata": {
        "id": "2d5e9997"
      },
      "source": [
        "## Neural Network"
      ]
    },
    {
      "cell_type": "code",
      "execution_count": null,
      "id": "0274aac6",
      "metadata": {
        "id": "0274aac6",
        "outputId": "f0153dc1-d44f-4017-9e16-d4f132a9a5bd"
      },
      "outputs": [
        {
          "data": {
            "text/html": [
              "<div>\n",
              "<style scoped>\n",
              "    .dataframe tbody tr th:only-of-type {\n",
              "        vertical-align: middle;\n",
              "    }\n",
              "\n",
              "    .dataframe tbody tr th {\n",
              "        vertical-align: top;\n",
              "    }\n",
              "\n",
              "    .dataframe thead th {\n",
              "        text-align: right;\n",
              "    }\n",
              "</style>\n",
              "<table border=\"1\" class=\"dataframe\">\n",
              "  <thead>\n",
              "    <tr style=\"text-align: right;\">\n",
              "      <th></th>\n",
              "      <th>age</th>\n",
              "      <th>bmi</th>\n",
              "      <th>children</th>\n",
              "      <th>sex_male</th>\n",
              "      <th>smoker_yes</th>\n",
              "      <th>region_northwest</th>\n",
              "      <th>region_southeast</th>\n",
              "      <th>region_southwest</th>\n",
              "    </tr>\n",
              "  </thead>\n",
              "  <tbody>\n",
              "    <tr>\n",
              "      <th>0</th>\n",
              "      <td>19</td>\n",
              "      <td>27.900</td>\n",
              "      <td>0</td>\n",
              "      <td>0</td>\n",
              "      <td>1</td>\n",
              "      <td>0</td>\n",
              "      <td>0</td>\n",
              "      <td>1</td>\n",
              "    </tr>\n",
              "    <tr>\n",
              "      <th>1</th>\n",
              "      <td>18</td>\n",
              "      <td>33.770</td>\n",
              "      <td>1</td>\n",
              "      <td>1</td>\n",
              "      <td>0</td>\n",
              "      <td>0</td>\n",
              "      <td>1</td>\n",
              "      <td>0</td>\n",
              "    </tr>\n",
              "    <tr>\n",
              "      <th>2</th>\n",
              "      <td>28</td>\n",
              "      <td>33.000</td>\n",
              "      <td>3</td>\n",
              "      <td>1</td>\n",
              "      <td>0</td>\n",
              "      <td>0</td>\n",
              "      <td>1</td>\n",
              "      <td>0</td>\n",
              "    </tr>\n",
              "    <tr>\n",
              "      <th>3</th>\n",
              "      <td>33</td>\n",
              "      <td>22.705</td>\n",
              "      <td>0</td>\n",
              "      <td>1</td>\n",
              "      <td>0</td>\n",
              "      <td>1</td>\n",
              "      <td>0</td>\n",
              "      <td>0</td>\n",
              "    </tr>\n",
              "    <tr>\n",
              "      <th>4</th>\n",
              "      <td>32</td>\n",
              "      <td>28.880</td>\n",
              "      <td>0</td>\n",
              "      <td>1</td>\n",
              "      <td>0</td>\n",
              "      <td>1</td>\n",
              "      <td>0</td>\n",
              "      <td>0</td>\n",
              "    </tr>\n",
              "  </tbody>\n",
              "</table>\n",
              "</div>"
            ],
            "text/plain": [
              "   age     bmi  children  sex_male  smoker_yes  region_northwest  \\\n",
              "0   19  27.900         0         0           1                 0   \n",
              "1   18  33.770         1         1           0                 0   \n",
              "2   28  33.000         3         1           0                 0   \n",
              "3   33  22.705         0         1           0                 1   \n",
              "4   32  28.880         0         1           0                 1   \n",
              "\n",
              "   region_southeast  region_southwest  \n",
              "0                 0                 1  \n",
              "1                 1                 0  \n",
              "2                 1                 0  \n",
              "3                 0                 0  \n",
              "4                 0                 0  "
            ]
          },
          "execution_count": 33,
          "metadata": {},
          "output_type": "execute_result"
        }
      ],
      "source": [
        "x_.head()"
      ]
    },
    {
      "cell_type": "code",
      "execution_count": null,
      "id": "97f91b96",
      "metadata": {
        "id": "97f91b96",
        "outputId": "3e7a9471-5395-4ace-df5c-861a6199be82"
      },
      "outputs": [
        {
          "data": {
            "text/plain": [
              "0    16884.92400\n",
              "1     1725.55230\n",
              "2     4449.46200\n",
              "3    21984.47061\n",
              "4     3866.85520\n",
              "Name: charges, dtype: float64"
            ]
          },
          "execution_count": 34,
          "metadata": {},
          "output_type": "execute_result"
        }
      ],
      "source": [
        "y.head()"
      ]
    },
    {
      "cell_type": "code",
      "execution_count": null,
      "id": "173ffdc2",
      "metadata": {
        "id": "173ffdc2"
      },
      "outputs": [],
      "source": [
        "X_train, X_test, y_train, y_test = train_test_split(x_, y, test_size = 0.2, random_state = 42)"
      ]
    },
    {
      "cell_type": "code",
      "execution_count": null,
      "id": "fb5f4229",
      "metadata": {
        "id": "fb5f4229"
      },
      "outputs": [],
      "source": [
        "#feature scaling\n",
        "\n",
        "# Note: for Neural network, it's better to do the feature scaling (bring down features value bw 0,1). i have tried both,\n",
        "# and observed without features scaling the mae loss was about 6.5k, but with features scaling the loss came down to 2.7k\n",
        "\n",
        "sc = StandardScaler()\n",
        "X_train = sc.fit_transform(X_train)\n",
        "X_test = sc.transform(X_test)"
      ]
    },
    {
      "cell_type": "code",
      "execution_count": null,
      "id": "beded1e7",
      "metadata": {
        "id": "beded1e7",
        "outputId": "3735aa9c-0365-494c-ecf1-3b8872caeab4"
      },
      "outputs": [
        {
          "data": {
            "text/plain": [
              "((1070, 8), (268, 8), (1070,), (268,))"
            ]
          },
          "execution_count": 58,
          "metadata": {},
          "output_type": "execute_result"
        }
      ],
      "source": [
        "X_train.shape, X_test.shape, y_train.shape, y_test.shape"
      ]
    },
    {
      "cell_type": "raw",
      "id": "7da40fa4",
      "metadata": {
        "id": "7da40fa4"
      },
      "source": [
        "https://machinelearningmastery.com/regression-tutorial-keras-deep-learning-library-python/"
      ]
    },
    {
      "cell_type": "raw",
      "id": "75914086",
      "metadata": {
        "id": "75914086"
      },
      "source": [
        "https://machinelearningmastery.com/tutorial-first-neural-network-python-keras/"
      ]
    },
    {
      "cell_type": "code",
      "execution_count": null,
      "id": "fe44aa41",
      "metadata": {
        "id": "fe44aa41",
        "outputId": "a60748ea-3a67-4e16-e138-0a108b2f8733"
      },
      "outputs": [
        {
          "name": "stdout",
          "output_type": "stream",
          "text": [
            "Epoch 1/100\n",
            "34/34 [==============================] - 1s 4ms/step - loss: 13345.3877 - mse: 322426848.0000\n",
            "Epoch 2/100\n",
            "34/34 [==============================] - 0s 4ms/step - loss: 13343.6465 - mse: 322368672.0000\n",
            "Epoch 3/100\n",
            "34/34 [==============================] - 0s 4ms/step - loss: 13339.0244 - mse: 322218624.0000\n",
            "Epoch 4/100\n",
            "34/34 [==============================] - 0s 4ms/step - loss: 13327.6973 - mse: 321856992.0000\n",
            "Epoch 5/100\n",
            "34/34 [==============================] - 0s 4ms/step - loss: 13302.7432 - mse: 321068320.0000\n",
            "Epoch 6/100\n",
            "34/34 [==============================] - 0s 3ms/step - loss: 13253.9209 - mse: 319580512.0000\n",
            "Epoch 7/100\n",
            "34/34 [==============================] - 0s 4ms/step - loss: 13166.4541 - mse: 316954112.0000\n",
            "Epoch 8/100\n",
            "34/34 [==============================] - 0s 4ms/step - loss: 13020.4727 - mse: 312492640.0000\n",
            "Epoch 9/100\n",
            "34/34 [==============================] - 0s 4ms/step - loss: 12795.4150 - mse: 305927008.0000\n",
            "Epoch 10/100\n",
            "34/34 [==============================] - 0s 4ms/step - loss: 12468.4893 - mse: 296541248.0000\n",
            "Epoch 11/100\n",
            "34/34 [==============================] - 0s 4ms/step - loss: 12029.5098 - mse: 284042240.0000\n",
            "Epoch 12/100\n",
            "34/34 [==============================] - 0s 4ms/step - loss: 11491.5088 - mse: 268296336.0000\n",
            "Epoch 13/100\n",
            "34/34 [==============================] - 0s 3ms/step - loss: 10877.1162 - mse: 249439920.0000\n",
            "Epoch 14/100\n",
            "34/34 [==============================] - 0s 4ms/step - loss: 10167.0361 - mse: 227463344.0000\n",
            "Epoch 15/100\n",
            "34/34 [==============================] - 0s 4ms/step - loss: 9363.6992 - mse: 203136928.0000\n",
            "Epoch 16/100\n",
            "34/34 [==============================] - 0s 4ms/step - loss: 8502.6270 - mse: 177272192.0000\n",
            "Epoch 17/100\n",
            "34/34 [==============================] - 0s 4ms/step - loss: 7634.4521 - mse: 151554160.0000\n",
            "Epoch 18/100\n",
            "34/34 [==============================] - 0s 4ms/step - loss: 6846.6147 - mse: 127506168.0000\n",
            "Epoch 19/100\n",
            "34/34 [==============================] - 0s 4ms/step - loss: 6218.8047 - mse: 107956960.0000\n",
            "Epoch 20/100\n",
            "34/34 [==============================] - 0s 4ms/step - loss: 5696.6860 - mse: 92254128.0000\n",
            "Epoch 21/100\n",
            "34/34 [==============================] - 0s 4ms/step - loss: 5270.4868 - mse: 80301920.0000\n",
            "Epoch 22/100\n",
            "34/34 [==============================] - 0s 4ms/step - loss: 4914.1367 - mse: 72221056.0000\n",
            "Epoch 23/100\n",
            "34/34 [==============================] - 0s 4ms/step - loss: 4620.2764 - mse: 66235588.0000\n",
            "Epoch 24/100\n",
            "34/34 [==============================] - 0s 5ms/step - loss: 4373.2627 - mse: 62305736.0000\n",
            "Epoch 25/100\n",
            "34/34 [==============================] - 0s 5ms/step - loss: 4168.8306 - mse: 58883332.0000\n",
            "Epoch 26/100\n",
            "34/34 [==============================] - 0s 4ms/step - loss: 4007.5037 - mse: 56829916.0000\n",
            "Epoch 27/100\n",
            "34/34 [==============================] - 0s 4ms/step - loss: 3882.4675 - mse: 54856932.0000\n",
            "Epoch 28/100\n",
            "34/34 [==============================] - 0s 4ms/step - loss: 3794.3645 - mse: 53490696.0000\n",
            "Epoch 29/100\n",
            "34/34 [==============================] - 0s 4ms/step - loss: 3728.5134 - mse: 52914404.0000\n",
            "Epoch 30/100\n",
            "34/34 [==============================] - 0s 4ms/step - loss: 3681.7759 - mse: 51854624.0000\n",
            "Epoch 31/100\n",
            "34/34 [==============================] - 0s 4ms/step - loss: 3642.6702 - mse: 51166100.0000\n",
            "Epoch 32/100\n",
            "34/34 [==============================] - 0s 4ms/step - loss: 3610.2507 - mse: 50065632.0000\n",
            "Epoch 33/100\n",
            "34/34 [==============================] - 0s 4ms/step - loss: 3583.4097 - mse: 49028224.0000\n",
            "Epoch 34/100\n",
            "34/34 [==============================] - 0s 4ms/step - loss: 3555.0667 - mse: 48547276.0000\n",
            "Epoch 35/100\n",
            "34/34 [==============================] - 0s 4ms/step - loss: 3527.8245 - mse: 47590232.0000\n",
            "Epoch 36/100\n",
            "34/34 [==============================] - 0s 4ms/step - loss: 3505.0637 - mse: 46734644.0000\n",
            "Epoch 37/100\n",
            "34/34 [==============================] - 0s 4ms/step - loss: 3483.0642 - mse: 46101232.0000\n",
            "Epoch 38/100\n",
            "34/34 [==============================] - 0s 4ms/step - loss: 3461.1638 - mse: 45428524.0000\n",
            "Epoch 39/100\n",
            "34/34 [==============================] - 0s 4ms/step - loss: 3440.7908 - mse: 44585216.0000\n",
            "Epoch 40/100\n",
            "34/34 [==============================] - 0s 4ms/step - loss: 3422.1990 - mse: 43991648.0000\n",
            "Epoch 41/100\n",
            "34/34 [==============================] - 0s 4ms/step - loss: 3403.3586 - mse: 43331424.0000\n",
            "Epoch 42/100\n",
            "34/34 [==============================] - 0s 4ms/step - loss: 3385.8499 - mse: 42644348.0000\n",
            "Epoch 43/100\n",
            "34/34 [==============================] - 0s 4ms/step - loss: 3371.8533 - mse: 42534712.0000\n",
            "Epoch 44/100\n",
            "34/34 [==============================] - 0s 4ms/step - loss: 3351.1685 - mse: 41662952.0000\n",
            "Epoch 45/100\n",
            "34/34 [==============================] - 0s 4ms/step - loss: 3334.6904 - mse: 41204448.0000\n",
            "Epoch 46/100\n",
            "34/34 [==============================] - 0s 4ms/step - loss: 3314.1001 - mse: 40597324.0000\n",
            "Epoch 47/100\n",
            "34/34 [==============================] - 0s 4ms/step - loss: 3299.0886 - mse: 40038936.0000\n",
            "Epoch 48/100\n",
            "34/34 [==============================] - 0s 4ms/step - loss: 3280.8125 - mse: 39647396.0000\n",
            "Epoch 49/100\n",
            "34/34 [==============================] - 0s 4ms/step - loss: 3264.9949 - mse: 39192532.0000\n",
            "Epoch 50/100\n",
            "34/34 [==============================] - 0s 4ms/step - loss: 3247.4133 - mse: 38747868.0000\n",
            "Epoch 51/100\n",
            "34/34 [==============================] - 0s 4ms/step - loss: 3230.8914 - mse: 38428568.0000\n",
            "Epoch 52/100\n",
            "34/34 [==============================] - 0s 4ms/step - loss: 3215.8506 - mse: 38071240.0000\n",
            "Epoch 53/100\n",
            "34/34 [==============================] - 0s 4ms/step - loss: 3198.3418 - mse: 37835744.0000\n",
            "Epoch 54/100\n",
            "34/34 [==============================] - 0s 4ms/step - loss: 3182.9072 - mse: 37612060.0000\n",
            "Epoch 55/100\n",
            "34/34 [==============================] - 0s 4ms/step - loss: 3168.5547 - mse: 37484620.0000\n",
            "Epoch 56/100\n",
            "34/34 [==============================] - 0s 4ms/step - loss: 3152.0342 - mse: 37341680.0000\n",
            "Epoch 57/100\n",
            "34/34 [==============================] - 0s 4ms/step - loss: 3137.4504 - mse: 37249280.0000\n",
            "Epoch 58/100\n",
            "34/34 [==============================] - 0s 3ms/step - loss: 3123.4043 - mse: 37173960.0000\n",
            "Epoch 59/100\n",
            "34/34 [==============================] - 0s 4ms/step - loss: 3105.6555 - mse: 37379516.0000\n",
            "Epoch 60/100\n",
            "34/34 [==============================] - 0s 4ms/step - loss: 3093.1523 - mse: 37436360.0000\n",
            "Epoch 61/100\n",
            "34/34 [==============================] - 0s 4ms/step - loss: 3080.9006 - mse: 37438576.0000\n",
            "Epoch 62/100\n",
            "34/34 [==============================] - 0s 4ms/step - loss: 3064.5979 - mse: 37678168.0000\n",
            "Epoch 63/100\n",
            "34/34 [==============================] - 0s 4ms/step - loss: 3048.4875 - mse: 37819892.0000\n",
            "Epoch 64/100\n",
            "34/34 [==============================] - 0s 4ms/step - loss: 3036.9702 - mse: 38093836.0000\n",
            "Epoch 65/100\n",
            "34/34 [==============================] - 0s 4ms/step - loss: 3024.0266 - mse: 38089656.0000\n",
            "Epoch 66/100\n",
            "34/34 [==============================] - 0s 4ms/step - loss: 3010.5696 - mse: 38100836.0000\n",
            "Epoch 67/100\n",
            "34/34 [==============================] - 0s 4ms/step - loss: 3001.0288 - mse: 38200704.0000\n",
            "Epoch 68/100\n",
            "34/34 [==============================] - 0s 4ms/step - loss: 2990.4592 - mse: 37916440.0000\n",
            "Epoch 69/100\n",
            "34/34 [==============================] - 0s 4ms/step - loss: 2980.1758 - mse: 38085336.0000\n",
            "Epoch 70/100\n",
            "34/34 [==============================] - 0s 4ms/step - loss: 2971.7195 - mse: 37877072.0000\n",
            "Epoch 71/100\n",
            "34/34 [==============================] - 0s 4ms/step - loss: 2962.8501 - mse: 37844324.0000\n",
            "Epoch 72/100\n",
            "34/34 [==============================] - 0s 4ms/step - loss: 2951.2971 - mse: 37552052.0000\n",
            "Epoch 73/100\n",
            "34/34 [==============================] - 0s 4ms/step - loss: 2941.1550 - mse: 37557112.0000\n",
            "Epoch 74/100\n",
            "34/34 [==============================] - 0s 4ms/step - loss: 2932.2798 - mse: 37387804.0000\n",
            "Epoch 75/100\n",
            "34/34 [==============================] - 0s 4ms/step - loss: 2924.7722 - mse: 37559116.0000\n",
            "Epoch 76/100\n",
            "34/34 [==============================] - 0s 4ms/step - loss: 2917.5220 - mse: 37169132.0000\n",
            "Epoch 77/100\n",
            "34/34 [==============================] - 0s 4ms/step - loss: 2909.1362 - mse: 36966780.0000\n",
            "Epoch 78/100\n",
            "34/34 [==============================] - 0s 4ms/step - loss: 2899.8308 - mse: 36676560.0000\n",
            "Epoch 79/100\n",
            "34/34 [==============================] - 0s 4ms/step - loss: 2890.5789 - mse: 36745660.0000\n",
            "Epoch 80/100\n",
            "34/34 [==============================] - 0s 4ms/step - loss: 2882.3960 - mse: 36606532.0000\n",
            "Epoch 81/100\n",
            "34/34 [==============================] - 0s 4ms/step - loss: 2874.8215 - mse: 36504432.0000\n",
            "Epoch 82/100\n",
            "34/34 [==============================] - 0s 4ms/step - loss: 2862.9924 - mse: 36002472.0000\n",
            "Epoch 83/100\n",
            "34/34 [==============================] - 0s 4ms/step - loss: 2853.4846 - mse: 36105152.0000\n",
            "Epoch 84/100\n",
            "34/34 [==============================] - 0s 3ms/step - loss: 2847.3018 - mse: 35964324.0000\n",
            "Epoch 85/100\n",
            "34/34 [==============================] - 0s 5ms/step - loss: 2837.6179 - mse: 35901012.0000\n",
            "Epoch 86/100\n",
            "34/34 [==============================] - 0s 4ms/step - loss: 2833.5344 - mse: 35689952.0000\n",
            "Epoch 87/100\n",
            "34/34 [==============================] - 0s 4ms/step - loss: 2825.3889 - mse: 35441152.0000\n",
            "Epoch 88/100\n",
            "34/34 [==============================] - 0s 4ms/step - loss: 2814.9976 - mse: 35437464.0000\n",
            "Epoch 89/100\n",
            "34/34 [==============================] - 0s 4ms/step - loss: 2810.6187 - mse: 35424156.0000\n",
            "Epoch 90/100\n",
            "34/34 [==============================] - 0s 4ms/step - loss: 2803.8015 - mse: 35011316.0000\n",
            "Epoch 91/100\n",
            "34/34 [==============================] - 0s 4ms/step - loss: 2794.9280 - mse: 35150700.0000\n",
            "Epoch 92/100\n",
            "34/34 [==============================] - 0s 4ms/step - loss: 2785.9568 - mse: 35139540.0000\n",
            "Epoch 93/100\n",
            "34/34 [==============================] - 0s 4ms/step - loss: 2786.5623 - mse: 34706396.0000\n",
            "Epoch 94/100\n",
            "34/34 [==============================] - 0s 4ms/step - loss: 2771.3037 - mse: 34757008.0000\n",
            "Epoch 95/100\n",
            "34/34 [==============================] - 0s 4ms/step - loss: 2765.7310 - mse: 34794056.0000\n",
            "Epoch 96/100\n",
            "34/34 [==============================] - 0s 4ms/step - loss: 2759.2852 - mse: 34578484.0000\n",
            "Epoch 97/100\n",
            "34/34 [==============================] - 0s 3ms/step - loss: 2753.1284 - mse: 34479160.0000\n",
            "Epoch 98/100\n",
            "34/34 [==============================] - 0s 4ms/step - loss: 2746.6992 - mse: 34363104.0000\n",
            "Epoch 99/100\n",
            "34/34 [==============================] - 0s 4ms/step - loss: 2739.4668 - mse: 34128124.0000\n",
            "Epoch 100/100\n",
            "34/34 [==============================] - 0s 4ms/step - loss: 2733.8516 - mse: 33992560.0000\n"
          ]
        },
        {
          "data": {
            "text/plain": [
              "<keras.callbacks.History at 0x2675118d8e0>"
            ]
          },
          "execution_count": 65,
          "metadata": {},
          "output_type": "execute_result"
        }
      ],
      "source": [
        "# Create model\n",
        "\n",
        "model_1  = tf.keras.Sequential([\n",
        "    tf.keras.layers.Dense(30, input_shape=(8,), activation='relu'),\n",
        "    tf.keras.layers.Dense(20,  activation='relu'),\n",
        "    tf.keras.layers.Dense(10,  activation='relu'),\n",
        "    tf.keras.layers.Dense(1)\n",
        "])\n",
        "\n",
        "# compile model\n",
        "\n",
        "model_1.compile(loss=tf.keras.losses.mae, optimizer=tf.keras.optimizers.Adam(learning_rate=0.001), metrics=['mse'])\n",
        "\n",
        "# Fit the model\n",
        "\n",
        "model_1.fit(X_train,y_train, epochs =100)"
      ]
    },
    {
      "cell_type": "code",
      "execution_count": null,
      "id": "2cff8ef6",
      "metadata": {
        "id": "2cff8ef6",
        "outputId": "20786487-5619-4d5e-8e3b-d0a377acdb0d"
      },
      "outputs": [
        {
          "name": "stdout",
          "output_type": "stream",
          "text": [
            "9/9 [==============================] - 0s 3ms/step\n"
          ]
        }
      ],
      "source": [
        "# Prediction\n",
        "\n",
        "y_pred_1 = model_1.predict(X_test)\n",
        "#y_pred"
      ]
    },
    {
      "cell_type": "code",
      "execution_count": null,
      "id": "c088e0d5",
      "metadata": {
        "id": "c088e0d5",
        "outputId": "1717f5fd-73ce-4208-e666-96f5ddb914f9"
      },
      "outputs": [
        {
          "name": "stdout",
          "output_type": "stream",
          "text": [
            "9/9 [==============================] - 0s 4ms/step - loss: 2629.6172 - mse: 30909466.0000\n"
          ]
        },
        {
          "data": {
            "text/plain": [
              "[2629.6171875, 30909466.0]"
            ]
          },
          "execution_count": 66,
          "metadata": {},
          "output_type": "execute_result"
        }
      ],
      "source": [
        "model_1.evaluate(X_test,y_test)"
      ]
    },
    {
      "cell_type": "code",
      "execution_count": null,
      "id": "3133163b",
      "metadata": {
        "id": "3133163b",
        "outputId": "dec234f6-1aab-43bc-bfac-4951a228022d"
      },
      "outputs": [
        {
          "data": {
            "text/plain": [
              "count     1338.000000\n",
              "mean     13270.422265\n",
              "std      12110.011237\n",
              "min       1121.873900\n",
              "25%       4740.287150\n",
              "50%       9382.033000\n",
              "75%      16639.912515\n",
              "max      63770.428010\n",
              "Name: charges, dtype: float64"
            ]
          },
          "execution_count": 63,
          "metadata": {},
          "output_type": "execute_result"
        }
      ],
      "source": [
        "df['charges'].describe()"
      ]
    },
    {
      "cell_type": "code",
      "execution_count": null,
      "id": "93245297",
      "metadata": {
        "id": "93245297"
      },
      "outputs": [],
      "source": [
        "## the Avg charges is around 13K, so 2.k loss should be ok i guess."
      ]
    },
    {
      "cell_type": "code",
      "execution_count": null,
      "id": "bd70c17d",
      "metadata": {
        "id": "bd70c17d"
      },
      "outputs": [],
      "source": []
    },
    {
      "cell_type": "code",
      "execution_count": null,
      "id": "cb4efaca",
      "metadata": {
        "id": "cb4efaca"
      },
      "outputs": [],
      "source": []
    },
    {
      "cell_type": "code",
      "execution_count": null,
      "id": "69eb5fa9",
      "metadata": {
        "id": "69eb5fa9"
      },
      "outputs": [],
      "source": []
    },
    {
      "cell_type": "code",
      "execution_count": null,
      "id": "1d872526",
      "metadata": {
        "id": "1d872526",
        "outputId": "517ec589-f7d9-4269-adfe-e9c889c37504"
      },
      "outputs": [
        {
          "data": {
            "text/plain": [
              "list[__main__.<lambda>]"
            ]
          },
          "execution_count": 2,
          "metadata": {},
          "output_type": "execute_result"
        }
      ],
      "source": [
        "list[(lambda ep: 1e-4 * 10**(ep/20))]"
      ]
    },
    {
      "cell_type": "code",
      "execution_count": null,
      "id": "16c5dc29",
      "metadata": {
        "id": "16c5dc29"
      },
      "outputs": [],
      "source": []
    }
  ],
  "metadata": {
    "kernelspec": {
      "display_name": "Python 3 (ipykernel)",
      "language": "python",
      "name": "python3"
    },
    "language_info": {
      "codemirror_mode": {
        "name": "ipython",
        "version": 3
      },
      "file_extension": ".py",
      "mimetype": "text/x-python",
      "name": "python",
      "nbconvert_exporter": "python",
      "pygments_lexer": "ipython3",
      "version": "3.9.7"
    },
    "colab": {
      "provenance": []
    }
  },
  "nbformat": 4,
  "nbformat_minor": 5
}