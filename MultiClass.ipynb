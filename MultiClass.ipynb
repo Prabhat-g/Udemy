{
 "cells": [
  {
   "cell_type": "code",
   "execution_count": 38,
   "id": "25fd9b5d",
   "metadata": {},
   "outputs": [],
   "source": [
    "import tensorflow as tf\n",
    "from tensorflow.keras.datasets import fashion_mnist \n",
    "from sklearn.preprocessing import StandardScaler"
   ]
  },
  {
   "cell_type": "code",
   "execution_count": 2,
   "id": "2b80a9f6",
   "metadata": {},
   "outputs": [],
   "source": [
    "(train_data, train_label), (test_data, test_label) = fashion_mnist.load_data()"
   ]
  },
  {
   "cell_type": "code",
   "execution_count": 3,
   "id": "ebff21d9",
   "metadata": {},
   "outputs": [
    {
     "data": {
      "text/plain": [
       "((60000, 28, 28), (28, 28), 9)"
      ]
     },
     "execution_count": 3,
     "metadata": {},
     "output_type": "execute_result"
    }
   ],
   "source": [
    "train_data.shape"
   ]
  },
  {
   "cell_type": "code",
   "execution_count": 7,
   "id": "9b1372c9",
   "metadata": {},
   "outputs": [
    {
     "data": {
      "text/plain": [
       "(28, 28)"
      ]
     },
     "execution_count": 7,
     "metadata": {},
     "output_type": "execute_result"
    }
   ],
   "source": [
    "train_data[0].shape"
   ]
  },
  {
   "cell_type": "code",
   "execution_count": 8,
   "id": "62b1580e",
   "metadata": {},
   "outputs": [
    {
     "data": {
      "text/plain": [
       "9"
      ]
     },
     "execution_count": 8,
     "metadata": {},
     "output_type": "execute_result"
    }
   ],
   "source": [
    "train_label[0]"
   ]
  },
  {
   "cell_type": "code",
   "execution_count": 9,
   "id": "5a3c4e01",
   "metadata": {},
   "outputs": [],
   "source": [
    "#train_data[0]"
   ]
  },
  {
   "cell_type": "code",
   "execution_count": 5,
   "id": "19a1f286",
   "metadata": {},
   "outputs": [
    {
     "data": {
      "text/plain": [
       "((10000, 28, 28), (28, 28), 1)"
      ]
     },
     "execution_count": 5,
     "metadata": {},
     "output_type": "execute_result"
    }
   ],
   "source": [
    "test_data.shape, test_data[0].shape, test_label[3]"
   ]
  },
  {
   "cell_type": "code",
   "execution_count": 40,
   "id": "511e0b4d",
   "metadata": {},
   "outputs": [],
   "source": [
    "X_train = train_data/255.0\n",
    "X_test = test_data/255.0"
   ]
  },
  {
   "cell_type": "code",
   "execution_count": 41,
   "id": "bba463e3",
   "metadata": {},
   "outputs": [],
   "source": [
    "# Create a model\n",
    "\n",
    "model = tf.keras.Sequential([\n",
    "    tf.keras.layers.Flatten(input_shape = (28,28)),\n",
    "    tf.keras.layers.Dense(40,activation = 'relu'),\n",
    "    tf.keras.layers.Dense(25,activation = 'relu'),\n",
    "    tf.keras.layers.Dense(20,activation = 'relu'),\n",
    "    tf.keras.layers.Dense(10,activation = 'softmax')\n",
    "])"
   ]
  },
  {
   "cell_type": "code",
   "execution_count": 44,
   "id": "e510c7d8",
   "metadata": {},
   "outputs": [],
   "source": [
    "# compile the model\n",
    "\n",
    "model.compile(loss ='sparse_categorical_crossentropy',\n",
    "             optimizer = tf.keras.optimizers.Adam(learning_rate=0.001),\n",
    "              metrics = ['accuracy'])"
   ]
  },
  {
   "cell_type": "code",
   "execution_count": 45,
   "id": "373fc5d0",
   "metadata": {},
   "outputs": [
    {
     "name": "stdout",
     "output_type": "stream",
     "text": [
      "Epoch 1/50\n",
      "1875/1875 [==============================] - 11s 5ms/step - loss: 0.2867 - accuracy: 0.8972 - val_loss: 0.4248 - val_accuracy: 0.8654\n",
      "Epoch 2/50\n",
      "1875/1875 [==============================] - 10s 5ms/step - loss: 0.2703 - accuracy: 0.9010 - val_loss: 0.4241 - val_accuracy: 0.8670\n",
      "Epoch 3/50\n",
      "1875/1875 [==============================] - 8s 5ms/step - loss: 0.2664 - accuracy: 0.9020 - val_loss: 0.4260 - val_accuracy: 0.8665\n",
      "Epoch 4/50\n",
      "1875/1875 [==============================] - 7s 4ms/step - loss: 0.2627 - accuracy: 0.9034 - val_loss: 0.4382 - val_accuracy: 0.8692\n",
      "Epoch 5/50\n",
      "1875/1875 [==============================] - 8s 4ms/step - loss: 0.2612 - accuracy: 0.9038 - val_loss: 0.4355 - val_accuracy: 0.8672\n",
      "Epoch 6/50\n",
      "1875/1875 [==============================] - 7s 4ms/step - loss: 0.2604 - accuracy: 0.9037 - val_loss: 0.4315 - val_accuracy: 0.8673\n",
      "Epoch 7/50\n",
      "1875/1875 [==============================] - 8s 4ms/step - loss: 0.2583 - accuracy: 0.9043 - val_loss: 0.4539 - val_accuracy: 0.8652\n",
      "Epoch 8/50\n",
      "1875/1875 [==============================] - 9s 5ms/step - loss: 0.2572 - accuracy: 0.9050 - val_loss: 0.4515 - val_accuracy: 0.8661\n",
      "Epoch 9/50\n",
      "1875/1875 [==============================] - 9s 5ms/step - loss: 0.2564 - accuracy: 0.9049 - val_loss: 0.4569 - val_accuracy: 0.8682\n",
      "Epoch 10/50\n",
      "1875/1875 [==============================] - 7s 4ms/step - loss: 0.2552 - accuracy: 0.9059 - val_loss: 0.4715 - val_accuracy: 0.8689\n",
      "Epoch 11/50\n",
      "1875/1875 [==============================] - 7s 4ms/step - loss: 0.2545 - accuracy: 0.9056 - val_loss: 0.4544 - val_accuracy: 0.8668\n",
      "Epoch 12/50\n",
      "1875/1875 [==============================] - 7s 4ms/step - loss: 0.2538 - accuracy: 0.9057 - val_loss: 0.4860 - val_accuracy: 0.8686\n",
      "Epoch 13/50\n",
      "1875/1875 [==============================] - 7s 4ms/step - loss: 0.2535 - accuracy: 0.9057 - val_loss: 0.4678 - val_accuracy: 0.8685\n",
      "Epoch 14/50\n",
      "1875/1875 [==============================] - 7s 4ms/step - loss: 0.2526 - accuracy: 0.9068 - val_loss: 0.4721 - val_accuracy: 0.8662\n",
      "Epoch 15/50\n",
      "1875/1875 [==============================] - 7s 4ms/step - loss: 0.2524 - accuracy: 0.9066 - val_loss: 0.4678 - val_accuracy: 0.8669\n",
      "Epoch 16/50\n",
      "1875/1875 [==============================] - 7s 4ms/step - loss: 0.2517 - accuracy: 0.9066 - val_loss: 0.4852 - val_accuracy: 0.8687\n",
      "Epoch 17/50\n",
      "1875/1875 [==============================] - 8s 4ms/step - loss: 0.2508 - accuracy: 0.9071 - val_loss: 0.4990 - val_accuracy: 0.8682\n",
      "Epoch 18/50\n",
      "1875/1875 [==============================] - 9s 5ms/step - loss: 0.2508 - accuracy: 0.9068 - val_loss: 0.4964 - val_accuracy: 0.8684\n",
      "Epoch 19/50\n",
      "1875/1875 [==============================] - 9s 5ms/step - loss: 0.2509 - accuracy: 0.9071 - val_loss: 0.5107 - val_accuracy: 0.8695\n",
      "Epoch 20/50\n",
      "1875/1875 [==============================] - 11s 6ms/step - loss: 0.2495 - accuracy: 0.9083 - val_loss: 0.4999 - val_accuracy: 0.8672\n",
      "Epoch 21/50\n",
      "1875/1875 [==============================] - 9s 5ms/step - loss: 0.2495 - accuracy: 0.9076 - val_loss: 0.5122 - val_accuracy: 0.8671\n",
      "Epoch 22/50\n",
      "1875/1875 [==============================] - 8s 4ms/step - loss: 0.2490 - accuracy: 0.9082 - val_loss: 0.5135 - val_accuracy: 0.8676\n",
      "Epoch 23/50\n",
      "1875/1875 [==============================] - 8s 4ms/step - loss: 0.2499 - accuracy: 0.9073 - val_loss: 0.5053 - val_accuracy: 0.8688\n",
      "Epoch 24/50\n",
      "1875/1875 [==============================] - 8s 4ms/step - loss: 0.2475 - accuracy: 0.9082 - val_loss: 0.5151 - val_accuracy: 0.8667\n",
      "Epoch 25/50\n",
      "1875/1875 [==============================] - 7s 4ms/step - loss: 0.2471 - accuracy: 0.9086 - val_loss: 0.5163 - val_accuracy: 0.8682\n",
      "Epoch 26/50\n",
      "1875/1875 [==============================] - 7s 4ms/step - loss: 0.2469 - accuracy: 0.9090 - val_loss: 0.5198 - val_accuracy: 0.8670\n",
      "Epoch 27/50\n",
      "1875/1875 [==============================] - 8s 4ms/step - loss: 0.2459 - accuracy: 0.9087 - val_loss: 0.5193 - val_accuracy: 0.8682\n",
      "Epoch 28/50\n",
      "1875/1875 [==============================] - 8s 4ms/step - loss: 0.2461 - accuracy: 0.9085 - val_loss: 0.5229 - val_accuracy: 0.8665\n",
      "Epoch 29/50\n",
      "1875/1875 [==============================] - 8s 4ms/step - loss: 0.2459 - accuracy: 0.9081 - val_loss: 0.5075 - val_accuracy: 0.8689\n",
      "Epoch 30/50\n",
      "1875/1875 [==============================] - 8s 4ms/step - loss: 0.2450 - accuracy: 0.9093 - val_loss: 0.5527 - val_accuracy: 0.8667\n",
      "Epoch 31/50\n",
      "1875/1875 [==============================] - 8s 4ms/step - loss: 0.2455 - accuracy: 0.9084 - val_loss: 0.5459 - val_accuracy: 0.8648\n",
      "Epoch 32/50\n",
      "1875/1875 [==============================] - 8s 4ms/step - loss: 0.2450 - accuracy: 0.9092 - val_loss: 0.5491 - val_accuracy: 0.8682\n",
      "Epoch 33/50\n",
      "1875/1875 [==============================] - 8s 5ms/step - loss: 0.2440 - accuracy: 0.9092 - val_loss: 0.5602 - val_accuracy: 0.8672\n",
      "Epoch 34/50\n",
      "1875/1875 [==============================] - 9s 5ms/step - loss: 0.2430 - accuracy: 0.9093 - val_loss: 0.5778 - val_accuracy: 0.8661\n",
      "Epoch 35/50\n",
      "1875/1875 [==============================] - 8s 4ms/step - loss: 0.2435 - accuracy: 0.9090 - val_loss: 0.5715 - val_accuracy: 0.8693\n",
      "Epoch 36/50\n",
      "1875/1875 [==============================] - 8s 5ms/step - loss: 0.2430 - accuracy: 0.9097 - val_loss: 0.5671 - val_accuracy: 0.8659\n",
      "Epoch 37/50\n",
      "1875/1875 [==============================] - 8s 4ms/step - loss: 0.2425 - accuracy: 0.9099 - val_loss: 0.5623 - val_accuracy: 0.8683\n",
      "Epoch 38/50\n",
      "1875/1875 [==============================] - 7s 4ms/step - loss: 0.2413 - accuracy: 0.9106 - val_loss: 0.5709 - val_accuracy: 0.8671\n",
      "Epoch 39/50\n",
      "1875/1875 [==============================] - 6s 3ms/step - loss: 0.2420 - accuracy: 0.9111 - val_loss: 0.5742 - val_accuracy: 0.8669\n",
      "Epoch 40/50\n",
      "1875/1875 [==============================] - 7s 4ms/step - loss: 0.2412 - accuracy: 0.9100 - val_loss: 0.5774 - val_accuracy: 0.8686\n",
      "Epoch 41/50\n",
      "1875/1875 [==============================] - 7s 4ms/step - loss: 0.2419 - accuracy: 0.9101 - val_loss: 0.5676 - val_accuracy: 0.8662\n",
      "Epoch 42/50\n",
      "1875/1875 [==============================] - 8s 4ms/step - loss: 0.2409 - accuracy: 0.9108 - val_loss: 0.6011 - val_accuracy: 0.8680\n",
      "Epoch 43/50\n",
      "1875/1875 [==============================] - 8s 4ms/step - loss: 0.2408 - accuracy: 0.9099 - val_loss: 0.5842 - val_accuracy: 0.8684\n",
      "Epoch 44/50\n",
      "1875/1875 [==============================] - 9s 5ms/step - loss: 0.2395 - accuracy: 0.9102 - val_loss: 0.5903 - val_accuracy: 0.8667\n",
      "Epoch 45/50\n",
      "1875/1875 [==============================] - 8s 4ms/step - loss: 0.2403 - accuracy: 0.9096 - val_loss: 0.5754 - val_accuracy: 0.8687\n",
      "Epoch 46/50\n",
      "1875/1875 [==============================] - 10s 5ms/step - loss: 0.2391 - accuracy: 0.9110 - val_loss: 0.5738 - val_accuracy: 0.8668\n",
      "Epoch 47/50\n",
      "1875/1875 [==============================] - 8s 5ms/step - loss: 0.2387 - accuracy: 0.9114 - val_loss: 0.6041 - val_accuracy: 0.8669\n",
      "Epoch 48/50\n",
      "1875/1875 [==============================] - 8s 4ms/step - loss: 0.2390 - accuracy: 0.9110 - val_loss: 0.6110 - val_accuracy: 0.8663\n",
      "Epoch 49/50\n",
      "1875/1875 [==============================] - 7s 4ms/step - loss: 0.2383 - accuracy: 0.9112 - val_loss: 0.6188 - val_accuracy: 0.8666\n",
      "Epoch 50/50\n",
      "1875/1875 [==============================] - 9s 5ms/step - loss: 0.2380 - accuracy: 0.9124 - val_loss: 0.6107 - val_accuracy: 0.8646\n"
     ]
    }
   ],
   "source": [
    "history = model.fit(X_train,train_label,epochs =50,\n",
    "                   validation_data = (X_test, test_label))"
   ]
  },
  {
   "cell_type": "code",
   "execution_count": null,
   "id": "a711e118",
   "metadata": {},
   "outputs": [],
   "source": []
  },
  {
   "cell_type": "code",
   "execution_count": null,
   "id": "e89e4915",
   "metadata": {},
   "outputs": [],
   "source": []
  }
 ],
 "metadata": {
  "kernelspec": {
   "display_name": "Python 3 (ipykernel)",
   "language": "python",
   "name": "python3"
  },
  "language_info": {
   "codemirror_mode": {
    "name": "ipython",
    "version": 3
   },
   "file_extension": ".py",
   "mimetype": "text/x-python",
   "name": "python",
   "nbconvert_exporter": "python",
   "pygments_lexer": "ipython3",
   "version": "3.9.7"
  }
 },
 "nbformat": 4,
 "nbformat_minor": 5
}
